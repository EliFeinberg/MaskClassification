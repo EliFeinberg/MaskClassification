{
 "cells": [
  {
   "cell_type": "code",
   "execution_count": 2,
   "id": "rotary-blackberry",
   "metadata": {},
   "outputs": [
    {
     "name": "stderr",
     "output_type": "stream",
     "text": [
      "IOPub data rate exceeded.\n",
      "The Jupyter server will temporarily stop sending output\n",
      "to the client in order to avoid crashing it.\n",
      "To change this limit, set the config variable\n",
      "`--ServerApp.iopub_data_rate_limit`.\n",
      "\n",
      "Current values:\n",
      "ServerApp.iopub_data_rate_limit=1000000.0 (bytes/sec)\n",
      "ServerApp.rate_limit_window=3.0 (secs)\n",
      "\n"
     ]
    }
   ],
   "source": [
    "from PIL import Image\n",
    "import matplotlib.pyplot as plt\n",
    "import os, sys\n",
    "\n",
    "for x in range(1):\n",
    "    \n",
    "    path = r\"C:\\Users\\elife\\Documents\\Jupyter-Notebook\\MaskClassification\\RAWIMAGESET\\Masked\\\\\"\n",
    "    dirss = os.listdir( path )\n",
    "    \n",
    "    for dirs in dirss:\n",
    "        subdir = os.listdir(path + dirs )\n",
    "        for item in dirs:\n",
    "            print(subdir)\n",
    "            if os.path.isfile(path+'\\\\'+item):\n",
    "                im = Image.open(path+'\\\\'+item)\n",
    "                f, e = os.path.splitext(path+'\\\\'+item)\n",
    "                imResize = im.resize((128,128), Image.ANTIALIAS)\n",
    "                imResize.save(r\"C:\\Users\\elife\\Documents\\Jupyter-Notebook\\MaskClassification\\CMFD-LowetRes\\Wearing-Mask\"+'\\\\' +item[0:5]+\".jpg\", 'JPEG', quality=90)\n",
    "print('Done')\n"
   ]
  },
  {
   "cell_type": "code",
   "execution_count": null,
   "id": "impossible-waters",
   "metadata": {},
   "outputs": [],
   "source": []
  }
 ],
 "metadata": {
  "kernelspec": {
   "display_name": "Python 3",
   "language": "python",
   "name": "python3"
  },
  "language_info": {
   "codemirror_mode": {
    "name": "ipython",
    "version": 3
   },
   "file_extension": ".py",
   "mimetype": "text/x-python",
   "name": "python",
   "nbconvert_exporter": "python",
   "pygments_lexer": "ipython3",
   "version": "3.8.8"
  }
 },
 "nbformat": 4,
 "nbformat_minor": 5
}
